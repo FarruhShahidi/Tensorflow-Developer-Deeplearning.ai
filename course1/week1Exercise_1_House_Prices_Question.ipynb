{
 "cells": [
  {
   "cell_type": "markdown",
   "metadata": {
    "colab_type": "text",
    "id": "mw2VBrBcgvGa"
   },
   "source": [
    "In this exercise you'll try to build a neural network that predicts the price of a house according to a simple formula.\n",
    "\n",
    "So, imagine if house pricing was as easy as a house costs 50k + 50k per bedroom, so that a 1 bedroom house costs 100k, a 2 bedroom house costs 150k etc.\n",
    "\n",
    "How would you create a neural network that learns this relationship so that it would predict a 7 bedroom house as costing close to 400k etc.\n",
    "\n",
    "Hint: Your network might work better if you scale the house price down. You don't have to give the answer 400...it might be better to create something that predicts the number 4, and then your answer is in the 'hundreds of thousands' etc."
   ]
  },
  {
   "cell_type": "code",
   "execution_count": 3,
   "metadata": {},
   "outputs": [],
   "source": [
    "import tensorflow as tf\n",
    "import numpy as np\n",
    "from tensorflow import keras"
   ]
  },
  {
   "cell_type": "code",
   "execution_count": 8,
   "metadata": {
    "colab": {},
    "colab_type": "code",
    "id": "PUNO2E6SeURH"
   },
   "outputs": [],
   "source": [
    "# GRADED FUNCTION: house_model\n",
    "def house_model(y_new):\n",
    "    xs = np.array([0,1,2,3,5,6,8,10])\n",
    "    ys = np.array([0.5, 1.0, 1.5, 2.0, 3.0, 3.5, 4.5, 5.5])\n",
    "    model = tf.keras.Sequential([keras.layers.Dense(units = 1, input_shape = [1])])\n",
    "    model.compile(optimizer = 'sgd', loss = 'mean_squared_error')\n",
    "    model.fit(xs,ys, epochs = 50)\n",
    "    return model.predict(y_new)[0]"
   ]
  },
  {
   "cell_type": "code",
   "execution_count": 9,
   "metadata": {},
   "outputs": [
    {
     "name": "stdout",
     "output_type": "stream",
     "text": [
      "Epoch 1/50\n",
      "8/8 [==============================] - 2s 295ms/sample - loss: 4.4490\n",
      "Epoch 2/50\n",
      "8/8 [==============================] - 0s 253us/sample - loss: 0.7675\n",
      "Epoch 3/50\n",
      "8/8 [==============================] - 0s 350us/sample - loss: 0.2076\n",
      "Epoch 4/50\n",
      "8/8 [==============================] - 0s 287us/sample - loss: 0.1214\n",
      "Epoch 5/50\n",
      "8/8 [==============================] - 0s 225us/sample - loss: 0.1070\n",
      "Epoch 6/50\n",
      "8/8 [==============================] - 0s 190us/sample - loss: 0.1036\n",
      "Epoch 7/50\n",
      "8/8 [==============================] - 0s 250us/sample - loss: 0.1019\n",
      "Epoch 8/50\n",
      "8/8 [==============================] - 0s 222us/sample - loss: 0.1004\n",
      "Epoch 9/50\n",
      "8/8 [==============================] - 0s 323us/sample - loss: 0.0990\n",
      "Epoch 10/50\n",
      "8/8 [==============================] - 0s 222us/sample - loss: 0.0976\n",
      "Epoch 11/50\n",
      "8/8 [==============================] - 0s 249us/sample - loss: 0.0962\n",
      "Epoch 12/50\n",
      "8/8 [==============================] - 0s 561us/sample - loss: 0.0949\n",
      "Epoch 13/50\n",
      "8/8 [==============================] - 0s 412us/sample - loss: 0.0935\n",
      "Epoch 14/50\n",
      "8/8 [==============================] - 0s 271us/sample - loss: 0.0922\n",
      "Epoch 15/50\n",
      "8/8 [==============================] - 0s 219us/sample - loss: 0.0909\n",
      "Epoch 16/50\n",
      "8/8 [==============================] - 0s 268us/sample - loss: 0.0897\n",
      "Epoch 17/50\n",
      "8/8 [==============================] - 0s 750us/sample - loss: 0.0884\n",
      "Epoch 18/50\n",
      "8/8 [==============================] - 0s 259us/sample - loss: 0.0872\n",
      "Epoch 19/50\n",
      "8/8 [==============================] - 0s 775us/sample - loss: 0.0859\n",
      "Epoch 20/50\n",
      "8/8 [==============================] - 0s 202us/sample - loss: 0.0847\n",
      "Epoch 21/50\n",
      "8/8 [==============================] - 0s 192us/sample - loss: 0.0836\n",
      "Epoch 22/50\n",
      "8/8 [==============================] - 0s 382us/sample - loss: 0.0824\n",
      "Epoch 23/50\n",
      "8/8 [==============================] - 0s 249us/sample - loss: 0.0812\n",
      "Epoch 24/50\n",
      "8/8 [==============================] - 0s 647us/sample - loss: 0.0801\n",
      "Epoch 25/50\n",
      "8/8 [==============================] - 0s 174us/sample - loss: 0.0790\n",
      "Epoch 26/50\n",
      "8/8 [==============================] - 0s 143us/sample - loss: 0.0779\n",
      "Epoch 27/50\n",
      "8/8 [==============================] - 0s 184us/sample - loss: 0.0768\n",
      "Epoch 28/50\n",
      "8/8 [==============================] - 0s 156us/sample - loss: 0.0757\n",
      "Epoch 29/50\n",
      "8/8 [==============================] - 0s 158us/sample - loss: 0.0746\n",
      "Epoch 30/50\n",
      "8/8 [==============================] - 0s 132us/sample - loss: 0.0736\n",
      "Epoch 31/50\n",
      "8/8 [==============================] - 0s 188us/sample - loss: 0.0726\n",
      "Epoch 32/50\n",
      "8/8 [==============================] - 0s 10ms/sample - loss: 0.0715\n",
      "Epoch 33/50\n",
      "8/8 [==============================] - 0s 214us/sample - loss: 0.0705\n",
      "Epoch 34/50\n",
      "8/8 [==============================] - 0s 164us/sample - loss: 0.0695\n",
      "Epoch 35/50\n",
      "8/8 [==============================] - 0s 169us/sample - loss: 0.0686\n",
      "Epoch 36/50\n",
      "8/8 [==============================] - 0s 147us/sample - loss: 0.0676\n",
      "Epoch 37/50\n",
      "8/8 [==============================] - 0s 166us/sample - loss: 0.0667\n",
      "Epoch 38/50\n",
      "8/8 [==============================] - 0s 162us/sample - loss: 0.0657\n",
      "Epoch 39/50\n",
      "8/8 [==============================] - 0s 122us/sample - loss: 0.0648\n",
      "Epoch 40/50\n",
      "8/8 [==============================] - 0s 166us/sample - loss: 0.0639\n",
      "Epoch 41/50\n",
      "8/8 [==============================] - 0s 158us/sample - loss: 0.0630\n",
      "Epoch 42/50\n",
      "8/8 [==============================] - 0s 151us/sample - loss: 0.0621\n",
      "Epoch 43/50\n",
      "8/8 [==============================] - 0s 10ms/sample - loss: 0.0612\n",
      "Epoch 44/50\n",
      "8/8 [==============================] - 0s 191us/sample - loss: 0.0604\n",
      "Epoch 45/50\n",
      "8/8 [==============================] - 0s 180us/sample - loss: 0.0595\n",
      "Epoch 46/50\n",
      "8/8 [==============================] - 0s 158us/sample - loss: 0.0587\n",
      "Epoch 47/50\n",
      "8/8 [==============================] - 0s 142us/sample - loss: 0.0579\n",
      "Epoch 48/50\n",
      "8/8 [==============================] - 0s 168us/sample - loss: 0.0571\n",
      "Epoch 49/50\n",
      "8/8 [==============================] - 0s 140us/sample - loss: 0.0563\n",
      "Epoch 50/50\n",
      "8/8 [==============================] - 0s 139us/sample - loss: 0.0555\n",
      "[4.0145583]\n"
     ]
    }
   ],
   "source": [
    "prediction = house_model([7.0])\n",
    "print(prediction)"
   ]
  },
  {
   "cell_type": "code",
   "execution_count": 4,
   "metadata": {},
   "outputs": [],
   "source": [
    "# Now click the 'Submit Assignment' button above.\n",
    "# Once that is complete, please run the following two cells to save your work and close the notebook"
   ]
  },
  {
   "cell_type": "code",
   "execution_count": null,
   "metadata": {},
   "outputs": [],
   "source": [
    "%%javascript\n",
    "<!-- Save the notebook -->\n",
    "IPython.notebook.save_checkpoint();"
   ]
  },
  {
   "cell_type": "code",
   "execution_count": null,
   "metadata": {},
   "outputs": [],
   "source": [
    "%%javascript\n",
    "IPython.notebook.session.delete();\n",
    "window.onbeforeunload = null\n",
    "setTimeout(function() { window.close(); }, 1000);"
   ]
  }
 ],
 "metadata": {
  "coursera": {
   "course_slug": "introduction-tensorflow",
   "graded_item_id": "jRjw8",
   "launcher_item_id": "YoQKl"
  },
  "kernelspec": {
   "display_name": "Python 3",
   "language": "python",
   "name": "python3"
  },
  "language_info": {
   "codemirror_mode": {
    "name": "ipython",
    "version": 3
   },
   "file_extension": ".py",
   "mimetype": "text/x-python",
   "name": "python",
   "nbconvert_exporter": "python",
   "pygments_lexer": "ipython3",
   "version": "3.6.8"
  }
 },
 "nbformat": 4,
 "nbformat_minor": 2
}
