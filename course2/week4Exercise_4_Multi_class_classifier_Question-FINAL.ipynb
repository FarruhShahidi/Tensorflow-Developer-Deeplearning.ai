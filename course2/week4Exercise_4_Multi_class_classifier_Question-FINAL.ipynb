{
 "cells": [
  {
   "cell_type": "code",
   "execution_count": 1,
   "metadata": {
    "colab": {},
    "colab_type": "code",
    "id": "wYtuKeK0dImp"
   },
   "outputs": [],
   "source": [
    "# ATTENTION: Please do not alter any of the provided code in the exercise. Only add your own code where indicated\n",
    "# ATTENTION: Please do not add or remove any cells in the exercise. The grader will check specific cells based on the cell position.\n",
    "# ATTENTION: Please use the provided epoch values when training.\n",
    "\n",
    "import csv\n",
    "import numpy as np\n",
    "import tensorflow as tf\n",
    "from tensorflow.keras.preprocessing.image import ImageDataGenerator\n",
    "from os import getcwd"
   ]
  },
  {
   "cell_type": "code",
   "execution_count": 7,
   "metadata": {
    "colab": {},
    "colab_type": "code",
    "id": "4kxw-_rmcnVu"
   },
   "outputs": [
    {
     "name": "stdout",
     "output_type": "stream",
     "text": [
      "(27455, 28, 28)\n",
      "(27455,)\n",
      "(7172, 28, 28)\n",
      "(7172,)\n"
     ]
    }
   ],
   "source": [
    "def get_data(filename):\n",
    "  # You will need to write code that will read the file passed\n",
    "  # into this function. The first line contains the column headers\n",
    "  # so you should ignore it\n",
    "  # Each successive line contians 785 comma separated values between 0 and 255\n",
    "  # The first value is the label\n",
    "  # The rest are the pixel values for that picture\n",
    "  # The function will return 2 np.array types. One with all the labels\n",
    "  # One with all the images\n",
    "  #\n",
    "  # Tips: \n",
    "  # If you read a full line (as 'row') then row[0] has the label\n",
    "  # and row[1:785] has the 784 pixel values\n",
    "  # Take a look at np.array_split to turn the 784 pixels into 28x28\n",
    "  # You are reading in strings, but need the values to be floats\n",
    "  # Check out np.array().astype for a conversion\n",
    "    with open(filename) as training_file:\n",
    "        rows = training_file.readlines()[1:]\n",
    "        n = len(rows)\n",
    "        labels = np.zeros(n)\n",
    "        images = np.zeros((n, 28,28))\n",
    "        for idx,row in enumerate(rows):\n",
    "            #convert row\n",
    "            row = row.strip().split(',')\n",
    "            #get label\n",
    "            labels[idx] = int(row[0])\n",
    "            #get image\n",
    "            image = np.array(row[1:]).astype(float)\n",
    "            image = np.array_split(image, 28)\n",
    "            images[idx,:,:] = image\n",
    "      \n",
    "    return images, labels\n",
    "\n",
    "path_sign_mnist_train = f\"{getcwd()}/../tmp2/sign_mnist_train.csv\"\n",
    "path_sign_mnist_test = f\"{getcwd()}/../tmp2/sign_mnist_test.csv\"\n",
    "training_images, training_labels = get_data(path_sign_mnist_train)\n",
    "testing_images, testing_labels = get_data(path_sign_mnist_test)\n",
    "\n",
    "# Keep these\n",
    "print(training_images.shape)\n",
    "print(training_labels.shape)\n",
    "print(testing_images.shape)\n",
    "print(testing_labels.shape)\n",
    "\n",
    "# Their output should be:\n",
    "# (27455, 28, 28)\n",
    "# (27455,)\n",
    "# (7172, 28, 28)\n",
    "# (7172,)"
   ]
  },
  {
   "cell_type": "code",
   "execution_count": 8,
   "metadata": {
    "colab": {},
    "colab_type": "code",
    "id": "awoqRpyZdQkD"
   },
   "outputs": [
    {
     "name": "stdout",
     "output_type": "stream",
     "text": [
      "(27455, 28, 28, 1)\n",
      "(7172, 28, 28, 1)\n"
     ]
    }
   ],
   "source": [
    "# In this section you will have to add another dimension to the data\n",
    "# So, for example, if your array is (10000, 28, 28)\n",
    "# You will need to make it (10000, 28, 28, 1)\n",
    "# Hint: np.expand_dims\n",
    "\n",
    "training_images = np.expand_dims(training_images, axis=3)\n",
    "testing_images = np.expand_dims(testing_images, axis=3)\n",
    "\n",
    "# Create an ImageDataGenerator and do Image Augmentation\n",
    "train_datagen = ImageDataGenerator(\n",
    "    rescale=1./255,\n",
    "    rotation_range=40,\n",
    "    width_shift_range=0.2,\n",
    "    height_shift_range=0.2,\n",
    "    shear_range=0.2,\n",
    "    zoom_range=0.2,\n",
    "    fill_mode='nearest',\n",
    "    horizontal_flip=True\n",
    "    )\n",
    "\n",
    "validation_datagen = ImageDataGenerator(\n",
    "    rescale=1./255)\n",
    "    \n",
    "# Keep These\n",
    "print(training_images.shape)\n",
    "print(testing_images.shape)\n",
    "    \n",
    "# Their output should be:\n",
    "# (27455, 28, 28, 1)\n",
    "# (7172, 28, 28, 1)"
   ]
  },
  {
   "cell_type": "code",
   "execution_count": 20,
   "metadata": {
    "colab": {},
    "colab_type": "code",
    "id": "Rmb7S32cgRqS"
   },
   "outputs": [
    {
     "name": "stdout",
     "output_type": "stream",
     "text": [
      "Model: \"sequential_9\"\n",
      "_________________________________________________________________\n",
      "Layer (type)                 Output Shape              Param #   \n",
      "=================================================================\n",
      "conv2d_28 (Conv2D)           (None, 26, 26, 64)        640       \n",
      "_________________________________________________________________\n",
      "max_pooling2d_28 (MaxPooling (None, 13, 13, 64)        0         \n",
      "_________________________________________________________________\n",
      "conv2d_29 (Conv2D)           (None, 11, 11, 128)       73856     \n",
      "_________________________________________________________________\n",
      "max_pooling2d_29 (MaxPooling (None, 5, 5, 128)         0         \n",
      "_________________________________________________________________\n",
      "conv2d_30 (Conv2D)           (None, 3, 3, 128)         147584    \n",
      "_________________________________________________________________\n",
      "max_pooling2d_30 (MaxPooling (None, 1, 1, 128)         0         \n",
      "_________________________________________________________________\n",
      "flatten_9 (Flatten)          (None, 128)               0         \n",
      "_________________________________________________________________\n",
      "dropout_9 (Dropout)          (None, 128)               0         \n",
      "_________________________________________________________________\n",
      "dense_18 (Dense)             (None, 512)               66048     \n",
      "_________________________________________________________________\n",
      "dense_19 (Dense)             (None, 25)                12825     \n",
      "=================================================================\n",
      "Total params: 300,953\n",
      "Trainable params: 300,953\n",
      "Non-trainable params: 0\n",
      "_________________________________________________________________\n",
      "Epoch 1/20\n",
      "858/858 [==============================] - 75s 88ms/step - loss: 2.8223 - accuracy: 0.1369 - val_loss: 1.9703 - val_accuracy: 0.3388\n",
      "Epoch 2/20\n",
      "858/858 [==============================] - 73s 85ms/step - loss: 2.1976 - accuracy: 0.2972 - val_loss: 1.5177 - val_accuracy: 0.4467\n",
      "Epoch 3/20\n",
      "858/858 [==============================] - 73s 85ms/step - loss: 1.8373 - accuracy: 0.4002 - val_loss: 1.0819 - val_accuracy: 0.6359\n",
      "Epoch 4/20\n",
      "858/858 [==============================] - 70s 81ms/step - loss: 1.6216 - accuracy: 0.4663 - val_loss: 0.8768 - val_accuracy: 0.7108\n",
      "Epoch 5/20\n",
      "858/858 [==============================] - 72s 84ms/step - loss: 1.4767 - accuracy: 0.5139 - val_loss: 0.6733 - val_accuracy: 0.7658\n",
      "Epoch 6/20\n",
      "858/858 [==============================] - 70s 82ms/step - loss: 1.3553 - accuracy: 0.5501 - val_loss: 0.6772 - val_accuracy: 0.7561\n",
      "Epoch 7/20\n",
      "858/858 [==============================] - 70s 82ms/step - loss: 1.2899 - accuracy: 0.5718 - val_loss: 0.6385 - val_accuracy: 0.7924\n",
      "Epoch 8/20\n",
      "858/858 [==============================] - 65s 75ms/step - loss: 1.2410 - accuracy: 0.5886 - val_loss: 0.5206 - val_accuracy: 0.8279\n",
      "Epoch 9/20\n",
      "858/858 [==============================] - 66s 76ms/step - loss: 1.1890 - accuracy: 0.6087 - val_loss: 0.4150 - val_accuracy: 0.8654\n",
      "Epoch 10/20\n",
      "858/858 [==============================] - 63s 74ms/step - loss: 1.1658 - accuracy: 0.6162 - val_loss: 0.5975 - val_accuracy: 0.7759\n",
      "Epoch 11/20\n",
      "858/858 [==============================] - 64s 74ms/step - loss: 1.1481 - accuracy: 0.6267 - val_loss: 0.4805 - val_accuracy: 0.8311\n",
      "Epoch 12/20\n",
      "858/858 [==============================] - 66s 76ms/step - loss: 1.1157 - accuracy: 0.6361 - val_loss: 0.4305 - val_accuracy: 0.8555\n",
      "Epoch 13/20\n",
      "858/858 [==============================] - 65s 75ms/step - loss: 1.0988 - accuracy: 0.6446 - val_loss: 0.4561 - val_accuracy: 0.8339\n",
      "Epoch 14/20\n",
      "858/858 [==============================] - 69s 81ms/step - loss: 1.1099 - accuracy: 0.6398 - val_loss: 0.3493 - val_accuracy: 0.8914\n",
      "Epoch 15/20\n",
      "858/858 [==============================] - 67s 78ms/step - loss: 1.0901 - accuracy: 0.6465 - val_loss: 0.4096 - val_accuracy: 0.8645\n",
      "Epoch 16/20\n",
      "858/858 [==============================] - 66s 77ms/step - loss: 1.0974 - accuracy: 0.6455 - val_loss: 0.4249 - val_accuracy: 0.8508\n",
      "Epoch 17/20\n",
      "858/858 [==============================] - 67s 79ms/step - loss: 1.0796 - accuracy: 0.6553 - val_loss: 0.5376 - val_accuracy: 0.8363\n",
      "Epoch 18/20\n",
      "858/858 [==============================] - 69s 81ms/step - loss: 1.0808 - accuracy: 0.6533 - val_loss: 0.4564 - val_accuracy: 0.8565\n",
      "Epoch 19/20\n",
      "858/858 [==============================] - 73s 85ms/step - loss: 1.0575 - accuracy: 0.6607 - val_loss: 0.4045 - val_accuracy: 0.8608\n",
      "Epoch 20/20\n",
      "858/858 [==============================] - 71s 83ms/step - loss: 1.0738 - accuracy: 0.6575 - val_loss: 0.4163 - val_accuracy: 0.8526\n"
     ]
    },
    {
     "data": {
      "text/plain": [
       "[772.7881788008052, 0.42080313]"
      ]
     },
     "execution_count": 20,
     "metadata": {},
     "output_type": "execute_result"
    }
   ],
   "source": [
    "# Define the model\n",
    "# Use no more than 2 Conv2D and 2 MaxPooling2D\n",
    "model = tf.keras.models.Sequential([\n",
    "    tf.keras.layers.Conv2D(64, (3,3), activation='relu', input_shape=(28, 28, 1)),\n",
    "    tf.keras.layers.MaxPooling2D(2, 2),\n",
    "    # The second convolution\n",
    "   \n",
    "   \n",
    "    tf.keras.layers.Conv2D(128, (3,3), activation='relu'),\n",
    "    tf.keras.layers.MaxPooling2D(2,2),\n",
    "    # The fourth convolution\n",
    "    tf.keras.layers.Conv2D(128, (3,3), activation='relu'),\n",
    "    tf.keras.layers.MaxPooling2D(2,2),\n",
    "    # Flatten the results to feed into a DNN\n",
    "    tf.keras.layers.Flatten(),\n",
    "    tf.keras.layers.Dropout(0.5),\n",
    "    # 512 neuron hidden layer\n",
    "    tf.keras.layers.Dense(512, activation='relu'),\n",
    "    # there are 25 sign language signs\n",
    "    tf.keras.layers.Dense(25, activation='softmax')\n",
    "])\n",
    "model.summary()\n",
    "# Compile Model. \n",
    "model.compile(loss='sparse_categorical_crossentropy',\n",
    "              optimizer='rmsprop',\n",
    "             metrics=['accuracy'])\n",
    "# Train the Model\n",
    "train_generator = train_datagen.flow(training_images, training_labels)\n",
    "validation_generator = validation_datagen.flow(testing_images, testing_labels)\n",
    "\n",
    "# Train the Model. Larger epoch gives higher accuracy\n",
    "history = model.fit_generator(train_generator,\n",
    "                              epochs=20,\n",
    "                              validation_data = validation_generator\n",
    "                              )\n",
    "\n",
    "model.evaluate(testing_images, testing_labels, verbose=0)"
   ]
  },
  {
   "cell_type": "code",
   "execution_count": 21,
   "metadata": {
    "colab": {},
    "colab_type": "code",
    "id": "_Q3Zpr46dsij"
   },
   "outputs": [
    {
     "data": {
      "image/png": "[encoded data removed]",
      "text/plain": [
       "<Figure size 432x288 with 1 Axes>"
      ]
     },
     "metadata": {
      "needs_background": "light"
     },
     "output_type": "display_data"
    },
    {
     "data": {
      "image/png": "[encoded data removed]",
      "text/plain": [
       "<Figure size 432x288 with 1 Axes>"
      ]
     },
     "metadata": {
      "needs_background": "light"
     },
     "output_type": "display_data"
    }
   ],
   "source": [
    "# Plot the chart for accuracy and loss on both training and validation\n",
    "%matplotlib inline\n",
    "import matplotlib.pyplot as plt\n",
    "acc = history.history['accuracy']\n",
    "val_acc = history.history['val_accuracy']\n",
    "loss = history.history['loss']\n",
    "val_loss = history.history['val_loss']\n",
    "\n",
    "epochs = range(len(acc))\n",
    "\n",
    "plt.plot(epochs, acc, 'r', label='Training accuracy')\n",
    "plt.plot(epochs, val_acc, 'b', label='Validation accuracy')\n",
    "plt.title('Training and validation accuracy')\n",
    "plt.legend()\n",
    "plt.figure()\n",
    "\n",
    "plt.plot(epochs, loss, 'r', label='Training Loss')\n",
    "plt.plot(epochs, val_loss, 'b', label='Validation Loss')\n",
    "plt.title('Training and validation loss')\n",
    "plt.legend()\n",
    "\n",
    "plt.show()"
   ]
  },
  {
   "cell_type": "markdown",
   "metadata": {},
   "source": [
    "# Submission Instructions"
   ]
  },
  {
   "cell_type": "code",
   "execution_count": null,
   "metadata": {},
   "outputs": [],
   "source": [
    "# Now click the 'Submit Assignment' button above."
   ]
  },
  {
   "cell_type": "markdown",
   "metadata": {},
   "source": [
    "# When you're done or would like to take a break, please run the two cells below to save your work and close the Notebook. This will free up resources for your fellow learners. "
   ]
  },
  {
   "cell_type": "code",
   "execution_count": null,
   "metadata": {},
   "outputs": [],
   "source": [
    "%%javascript\n",
    "<!-- Save the notebook -->\n",
    "IPython.notebook.save_checkpoint();"
   ]
  },
  {
   "cell_type": "code",
   "execution_count": null,
   "metadata": {},
   "outputs": [],
   "source": [
    "%%javascript\n",
    "IPython.notebook.session.delete();\n",
    "window.onbeforeunload = null\n",
    "setTimeout(function() { window.close(); }, 1000);"
   ]
  }
 ],
 "metadata": {
  "colab": {
   "name": "Exercise 8 - Question.ipynb",
   "provenance": []
  },
  "coursera": {
   "course_slug": "convolutional-neural-networks-tensorflow",
   "graded_item_id": "8mIh8",
   "launcher_item_id": "gg95t"
  },
  "kernelspec": {
   "display_name": "Python 3",
   "language": "python",
   "name": "python3"
  },
  "language_info": {
   "codemirror_mode": {
    "name": "ipython",
    "version": 3
   },
   "file_extension": ".py",
   "mimetype": "text/x-python",
   "name": "python",
   "nbconvert_exporter": "python",
   "pygments_lexer": "ipython3",
   "version": "3.6.8"
  }
 },
 "nbformat": 4,
 "nbformat_minor": 1
}
